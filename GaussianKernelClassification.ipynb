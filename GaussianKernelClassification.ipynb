{
  "nbformat": 4,
  "nbformat_minor": 0,
  "metadata": {
    "colab": {
      "provenance": []
    },
    "kernelspec": {
      "name": "python3",
      "display_name": "Python 3"
    },
    "language_info": {
      "name": "python"
    }
  },
  "cells": [
    {
      "cell_type": "markdown",
      "source": [
        "## ガウスカーネルによる古文時代判定"
      ],
      "metadata": {
        "id": "-Ce4mP2dQ65-"
      }
    },
    {
      "cell_type": "code",
      "source": [
        "# ライブラリ読込\n",
        "import numpy as np\n",
        "from sklearn.metrics.pairwise import rbf_kernel\n",
        "import pandas as pd"
      ],
      "metadata": {
        "id": "2lerdTOsPepE"
      },
      "execution_count": 1,
      "outputs": []
    },
    {
      "cell_type": "code",
      "source": [
        "# サンプルの古文テキストをもとにした素性データ (例)\n",
        "# ここでは、10個の仮想的な特徴量を数値として表します（0〜1のランダム値を仮定）\n",
        "np.random.seed(0)\n",
        "n_samples = 5  # 古文サンプル数\n",
        "n_features = 10  # 素性の数\n",
        "features = np.random.rand(n_samples, n_features)"
      ],
      "metadata": {
        "id": "9i5gBj3-PsES"
      },
      "execution_count": 2,
      "outputs": []
    },
    {
      "cell_type": "code",
      "source": [
        "# 素性名のリスト（例）\n",
        "feature_names = [\n",
        "    \"平仮名率\", \"カタカナ率\", \"名詞数\", \"動詞数\", \"助詞数\",\n",
        "    \"形容詞数\", \"古語率\", \"漢字率\", \"句読点数\", \"特殊語彙数\"\n",
        "]"
      ],
      "metadata": {
        "id": "Ybr29rETPt9l"
      },
      "execution_count": 3,
      "outputs": []
    },
    {
      "cell_type": "code",
      "source": [
        "# データフレームとして表示\n",
        "df = pd.DataFrame(features, columns=feature_names)\n",
        "print(\"古文テキストの素性データ:\\n\", df)"
      ],
      "metadata": {
        "colab": {
          "base_uri": "https://localhost:8080/"
        },
        "id": "UXYgUKYNPwsI",
        "outputId": "a30ba052-ace4-4f34-a8c9-94b8524f38cc"
      },
      "execution_count": 4,
      "outputs": [
        {
          "output_type": "stream",
          "name": "stdout",
          "text": [
            "古文テキストの素性データ:\n",
            "        平仮名率     カタカナ率       名詞数       動詞数       助詞数      形容詞数       古語率  \\\n",
            "0  0.548814  0.715189  0.602763  0.544883  0.423655  0.645894  0.437587   \n",
            "1  0.791725  0.528895  0.568045  0.925597  0.071036  0.087129  0.020218   \n",
            "2  0.978618  0.799159  0.461479  0.780529  0.118274  0.639921  0.143353   \n",
            "3  0.264556  0.774234  0.456150  0.568434  0.018790  0.617635  0.612096   \n",
            "4  0.359508  0.437032  0.697631  0.060225  0.666767  0.670638  0.210383   \n",
            "\n",
            "        漢字率      句読点数     特殊語彙数  \n",
            "0  0.891773  0.963663  0.383442  \n",
            "1  0.832620  0.778157  0.870012  \n",
            "2  0.944669  0.521848  0.414662  \n",
            "3  0.616934  0.943748  0.681820  \n",
            "4  0.128926  0.315428  0.363711  \n"
          ]
        }
      ]
    },
    {
      "cell_type": "code",
      "source": [
        "# RBFカーネルによる相関行列の計算\n",
        "gamma = 0.5  # ガウスカーネルのパラメータ\n",
        "correlation_matrix = rbf_kernel(features, gamma=gamma)"
      ],
      "metadata": {
        "id": "WtX1kmOYPyvd"
      },
      "execution_count": 5,
      "outputs": []
    },
    {
      "cell_type": "code",
      "source": [
        "# 相関行列をデータフレームとして表示\n",
        "correlation_df = pd.DataFrame(correlation_matrix, columns=[f\"Sample_{i+1}\" for i in range(n_samples)],\n",
        "                              index=[f\"Sample_{i+1}\" for i in range(n_samples)])\n",
        "print(\"\\nガウスカーネル（RBF）による相関行列:\\n\", correlation_df)"
      ],
      "metadata": {
        "colab": {
          "base_uri": "https://localhost:8080/"
        },
        "id": "PRcX7qluP04N",
        "outputId": "dc6aa63d-1282-494d-f116-98a7fcaaa475"
      },
      "execution_count": 6,
      "outputs": [
        {
          "output_type": "stream",
          "name": "stdout",
          "text": [
            "\n",
            "ガウスカーネル（RBF）による相関行列:\n",
            "           Sample_1  Sample_2  Sample_3  Sample_4  Sample_5\n",
            "Sample_1  1.000000  0.569704  0.723933  0.791968  0.479273\n",
            "Sample_2  0.569704  1.000000  0.687655  0.542801  0.264730\n",
            "Sample_3  0.723933  0.687655  1.000000  0.564843  0.348896\n",
            "Sample_4  0.791968  0.542801  0.564843  1.000000  0.415302\n",
            "Sample_5  0.479273  0.264730  0.348896  0.415302  1.000000\n"
          ]
        }
      ]
    }
  ]
}